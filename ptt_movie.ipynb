{
 "cells": [
  {
   "cell_type": "code",
   "execution_count": 29,
   "id": "23e992e3-dcf0-4646-8b07-08f284c99773",
   "metadata": {},
   "outputs": [],
   "source": [
    "import requests\n",
    "from bs4 import BeautifulSoup\n",
    "import csv\n",
    "\n",
    "headers = {'user-agent': 'Mozilla/5.0 (Macintosh Intel Mac OS X 10_13_4) AppleWebKit/537.36 (KHTML, like Gecko) Chrome/66.0.3359.181 Safari/537.36'}\n",
    "\n",
    "target_url = 'https://www.ptt.cc/bbs/movie/search?page=';\n",
    "query_keyword = '&q=海邊的曼徹斯特'\n",
    "\n",
    "output_file_name = 'ptt.csv'\n",
    "\n",
    "with open(output_file_name, 'w', newline='') as csvfile:\n",
    "    writer = csv.writer(csvfile)\n",
    "    writer.writerow(['title', 'push', 'date'])\n",
    "    for page_number in range(1, 5):\n",
    "        url = target_url + str(page_number) + query_keyword\n",
    "        result = requests.get(url, headers=headers)\n",
    "        bs = BeautifulSoup(result.text,'html.parser')\n",
    "        blocks = bs.findAll(\"div\", {\"class\" : \"r-ent\"})\n",
    "        for block in blocks:\n",
    "            title = block.find(\"div\", {\"class\" : \"title\"}).text\n",
    "            date = block.find(\"div\", {\"class\" : \"date\"}).text\n",
    "            try:\n",
    "                push = block.find(\"span\", {\"class\" : \"f3\"}).text\n",
    "            except:\n",
    "                push = 0\n",
    "            \n",
    "            writer.writerow([title, push, date])"
   ]
  }
 ],
 "metadata": {
  "kernelspec": {
   "display_name": "Python 3",
   "language": "python",
   "name": "python3"
  },
  "language_info": {
   "codemirror_mode": {
    "name": "ipython",
    "version": 3
   },
   "file_extension": ".py",
   "mimetype": "text/x-python",
   "name": "python",
   "nbconvert_exporter": "python",
   "pygments_lexer": "ipython3",
   "version": "3.8.8"
  }
 },
 "nbformat": 4,
 "nbformat_minor": 5
}
